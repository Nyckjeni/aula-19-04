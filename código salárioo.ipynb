{
 "cells": [
  {
   "cell_type": "code",
   "execution_count": 6,
   "metadata": {},
   "outputs": [
    {
     "name": "stdout",
     "output_type": "stream",
     "text": [
      "O  seu antigo salário era 1000  e seu novo salário é: 1100.0\n"
     ]
    }
   ],
   "source": [
    "cargo = int(input('Qual código do seu cargo?'))\n",
    "salario = int (input('Quanto você ganha?'))\n",
    "\n",
    "\n",
    "\n",
    "if( cargo==101 ):\n",
    "    \n",
    "    novoSalario1 = (salario*10/100)+ salario\n",
    "    \n",
    "    print('O  seu antigo salário era', salario,' e seu novo salário é:', novoSalario1) \n",
    "    \n",
    "elif (cargo==102):\n",
    "    \n",
    "    novoSalario2 = (salario*20/100) + salario\n",
    "     \n",
    "    print ('O  seu antigo salário era', salario,' e seu novo salário é:', novoSalario2 )\n",
    "\n",
    "elif(cargo==103):\n",
    "     \n",
    "     novoSalario3 = (salario*10/100) + salario\n",
    "     print ('O  seu antigo salário era', salario,' e seu novo salário é:', novoSalario3)\n",
    "    \n",
    "\n",
    "else:\n",
    "    \n",
    "    novoSalario4= (salario*40/100) + salario\n",
    "    print ('O  seu antigo salário era', salario,' e seu novo salário é:', novoSalario4)\n",
    "\n",
    "\n"
   ]
  },
  {
   "cell_type": "code",
   "execution_count": 2,
   "metadata": {},
   "outputs": [
    {
     "data": {
      "text/plain": [
       "3"
      ]
     },
     "execution_count": 2,
     "metadata": {},
     "output_type": "execute_result"
    }
   ],
   "source": [
    "dias=[3,1,10]\n",
    "dias[0]"
   ]
  },
  {
   "cell_type": "code",
   "execution_count": 3,
   "metadata": {},
   "outputs": [
    {
     "data": {
      "text/plain": [
       "1"
      ]
     },
     "execution_count": 3,
     "metadata": {},
     "output_type": "execute_result"
    }
   ],
   "source": [
    "dias[1]"
   ]
  },
  {
   "cell_type": "code",
   "execution_count": 4,
   "metadata": {},
   "outputs": [
    {
     "data": {
      "text/plain": [
       "10"
      ]
     },
     "execution_count": 4,
     "metadata": {},
     "output_type": "execute_result"
    }
   ],
   "source": [
    "dias[2]"
   ]
  },
  {
   "cell_type": "code",
   "execution_count": 5,
   "metadata": {},
   "outputs": [
    {
     "data": {
      "text/plain": [
       "[7, 8, 9]"
      ]
     },
     "execution_count": 5,
     "metadata": {},
     "output_type": "execute_result"
    }
   ],
   "source": [
    "z=[3,8,9]\n",
    "z[0]=7\n",
    "z\n"
   ]
  },
  {
   "cell_type": "code",
   "execution_count": 7,
   "metadata": {},
   "outputs": [
    {
     "data": {
      "text/plain": [
       "[6, 7, 8, 9]"
      ]
     },
     "execution_count": 7,
     "metadata": {},
     "output_type": "execute_result"
    }
   ],
   "source": [
    "v=[6,7,8,9]\n",
    "l=v\n",
    "v"
   ]
  },
  {
   "cell_type": "code",
   "execution_count": 9,
   "metadata": {},
   "outputs": [
    {
     "name": "stdout",
     "output_type": "stream",
     "text": [
      "True\n",
      "False\n",
      "[81, 82, 83]\n",
      "[5, 82, 83]\n"
     ]
    }
   ],
   "source": [
    "a=[81,82,83]\n",
    "b= a[:]\n",
    "print(a==b)\n",
    "print(a is b)\n",
    "b[0]=5\n",
    "print(a)\n",
    "print(b)"
   ]
  },
  {
   "cell_type": "code",
   "execution_count": 10,
   "metadata": {},
   "outputs": [
    {
     "name": "stdout",
     "output_type": "stream",
     "text": [
      "['b', 'c']\n",
      "['a', 'b', 'c', 'd']\n",
      "['d', 'e', 'f']\n",
      "['a', 'b', 'c', 'd', 'e', 'f']\n"
     ]
    }
   ],
   "source": [
    "uma_lista=['a','b','c','d','e','f']\n",
    "print(uma_lista[1:3])\n",
    "print(uma_lista[:4])\n",
    "print(uma_lista[3:])\n",
    "print(uma_lista[:])\n",
    "\n"
   ]
  },
  {
   "cell_type": "code",
   "execution_count": 11,
   "metadata": {},
   "outputs": [
    {
     "name": "stdout",
     "output_type": "stream",
     "text": [
      "[2, 3]\n",
      "[1, 2, 3, 4]\n",
      "[4, 5, 6, 7, 8, 9, 10]\n",
      "[1, 2, 3, 4, 5, 6, 7, 8, 9, 10]\n"
     ]
    }
   ],
   "source": [
    "uma_lista=[1,2,3,4,5,6,7,8,9,10]\n",
    "print(uma_lista[1:3])\n",
    "print(uma_lista[:4])\n",
    "print(uma_lista[3:])\n",
    "print(uma_lista[:])"
   ]
  },
  {
   "cell_type": "code",
   "execution_count": 32,
   "metadata": {},
   "outputs": [
    {
     "name": "stdout",
     "output_type": "stream",
     "text": [
      "[76, 92.3, 'oi', 'true', 4, 76, 'pitomba', 76]\n",
      "[76, 92.3, 'oi', 'cibele', 'true', 4, 76]\n",
      "[99, 76, 92.3, 'oi', 'true', 4, 76]\n",
      "['oi']\n"
     ]
    }
   ],
   "source": [
    "uma_lista=[76, 92.3,'oi','true', 4, 76]\n",
    "lista=['pitomba', 76]\n",
    "nome=['cibele','true',4,76]\n",
    "listaN=[99]\n",
    "\n",
    "print(uma_lista[:] + lista)\n",
    "print(uma_lista[0:3]+ nome )\n",
    "print(listaN + uma_lista[:])\n",
    "print(uma_lista[2:3])\n",
    "\n",
    "input()\n",
    "if(uma_lista[2:3]  ): \n",
    "    print()\n"
   ]
  }
 ],
 "metadata": {
  "kernelspec": {
   "display_name": "Python 3",
   "language": "python",
   "name": "python3"
  },
  "language_info": {
   "codemirror_mode": {
    "name": "ipython",
    "version": 3
   },
   "file_extension": ".py",
   "mimetype": "text/x-python",
   "name": "python",
   "nbconvert_exporter": "python",
   "pygments_lexer": "ipython3",
   "version": "3.12.3"
  }
 },
 "nbformat": 4,
 "nbformat_minor": 2
}
